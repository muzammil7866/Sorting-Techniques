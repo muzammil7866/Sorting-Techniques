{
 "cells": [
  {
   "cell_type": "code",
   "execution_count": null,
   "id": "26cc9c18-eb25-4785-8b9c-84d374e8a25b",
   "metadata": {},
   "outputs": [],
   "source": [
    "#insertionSort\n",
    "\n",
    "l1 = [4,3,5,8,1,3] #original list\n",
    "\n",
    "for i in range(1, len(l1)): #run this loop n-1 times because we consider the first element as already sorted\n",
    "    \n",
    "    thisElement = l1[i] \n",
    "    \n",
    "    j = i-1 #start comparing from the previous index till the 0th index\n",
    "    \n",
    "    while(l1[j] > thisElement and j >= 0): #keeps on swapping until it finds that the previous one is less than or equals to the current comparison\n",
    "    \n",
    "        l1[j+1] = l1[j] #swapping meanwhile\n",
    "        \n",
    "        j = j-1\n",
    "    \n",
    "    l1[j + 1] = thisElement\n",
    "\n",
    "print(l1) #list is now sorted!\n",
    "\n",
    "        "
   ]
  }
 ],
 "metadata": {
  "kernelspec": {
   "display_name": "py38",
   "language": "python",
   "name": "py38"
  },
  "language_info": {
   "codemirror_mode": {
    "name": "ipython",
    "version": 3
   },
   "file_extension": ".py",
   "mimetype": "text/x-python",
   "name": "python",
   "nbconvert_exporter": "python",
   "pygments_lexer": "ipython3",
   "version": "3.8.19"
  }
 },
 "nbformat": 4,
 "nbformat_minor": 5
}
