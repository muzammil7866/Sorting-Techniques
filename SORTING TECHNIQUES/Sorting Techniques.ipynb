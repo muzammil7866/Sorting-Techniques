{
 "cells": [
  {
   "cell_type": "code",
   "execution_count": 5,
   "id": "add61635",
   "metadata": {},
   "outputs": [
    {
     "name": "stdout",
     "output_type": "stream",
     "text": [
      "[1, 2, 5, 7]\n"
     ]
    }
   ],
   "source": [
    "#bubbleSort\n",
    "\n",
    "l1 = [5,7,2,1] # original list\n",
    "\n",
    "for i in range(0,len(l1)): #iterate from the first element till the second last element to sort \n",
    "    for j in range(i+1, len(l1)): #iterate from the next elememnt to compare and swap until the end of list\n",
    "        if(l1[i] > l1[j]): #if first is larger then second then swap which means it is ascending sort\n",
    "            temp = l1[i]\n",
    "            l1[i] = l1[j]\n",
    "            l1[j] = temp #swap\n",
    "            \n",
    "\n",
    "print(l1)\n",
    "\n"
   ]
  },
  {
   "cell_type": "code",
   "execution_count": 4,
   "id": "fc4fdbdd",
   "metadata": {},
   "outputs": [
    {
     "name": "stdout",
     "output_type": "stream",
     "text": [
      "[1, 3, 3, 4, 5, 8]\n"
     ]
    }
   ],
   "source": [
    "#insertionSort\n",
    "\n",
    "l1 = [4,3,5,8,1,3] #original list\n",
    "\n",
    "for i in range(1, len(l1)): #run this loop n-1 times because we consider the first element as already sorted\n",
    "    \n",
    "    thisElement = l1[i] \n",
    "    \n",
    "    j = i-1 #start comparing from the previous index till the 0th index\n",
    "    \n",
    "    while(l1[j] > thisElement and j >= 0): #keeps on swapping until it finds that the previous one is less than or equals to the current comparison\n",
    "    \n",
    "        l1[j+1] = l1[j] #swapping meanwhile\n",
    "        \n",
    "        j = j-1\n",
    "    \n",
    "    l1[j + 1] = thisElement\n",
    "\n",
    "print(l1) #list is now sorted!\n",
    "        \n",
    "#understand this code\n",
    "        \n",
    "        "
   ]
  },
  {
   "cell_type": "markdown",
   "id": "6d7c689e",
   "metadata": {},
   "source": [
    "# TOP 30 SORTS"
   ]
  },
  {
   "cell_type": "markdown",
   "id": "3e601235",
   "metadata": {},
   "source": [
    " 1. Bubble Sort\n",
    "2. Selection Sort\n",
    "3. Insertion Sort\n",
    "4. Merge Sort\n",
    "5. Quick Sort\n",
    "6. Heap Sort\n",
    "7. Radix Sort\n",
    "8. Counting Sort\n",
    "9. Bucket Sort\n",
    "10. Shell Sort\n",
    "11. Comb Sort\n",
    "12. Cocktail Shaker Sort (Bidirectional Bubble Sort)\n",
    "13. Odd-Even Sort\n",
    "14. Cycle Sort\n",
    "15. Gnome Sort\n",
    "16. Stooge Sort\n",
    "17. Pigeonhole Sort\n",
    "18. Timsort\n",
    "19. Binary Tree Sort\n",
    "20. Library Sort\n",
    "21. ournament Sort\n",
    "22. Strand Sort\n",
    "23. Spreadsort\n",
    "24. Postman Sort\n",
    "25. Pancake Sort\n",
    "26. Bogo Sort\n",
    "27. Sleep Sort (a humorous algorithm)\n",
    "28. Smoothsort\n",
    "29. Flashsort\n",
    "30. Introsort"
   ]
  },
  {
   "cell_type": "markdown",
   "id": "b493d4a2",
   "metadata": {},
   "source": [
    "## DIFFERENCES B/W THEM"
   ]
  },
  {
   "cell_type": "markdown",
   "id": "001cf2dc",
   "metadata": {},
   "source": [
    "Bubble Sort, Selection Sort, and Insertion Sort are considered the elementary sorting algorithms and are quite different from each other.\n",
    "\n",
    "Merge Sort, Quick Sort, and Heap Sort are classic comparison-based sorting algorithms, each with its own approach.\n",
    "\n",
    "Radix Sort, Counting Sort, and Bucket Sort are non-comparison-based sorting algorithms that exploit different characteristics of the data.\n",
    "\n",
    "Shell Sort, Comb Sort, Cocktail Shaker Sort, Odd-Even Sort, Gnome Sort, Stooge Sort, Pigeonhole Sort, and Timsort are variations or improvements upon basic sorting techniques, often offering better performance or specific advantages in certain scenarios.\n",
    "\n",
    "Binary Tree Sort, Library Sort, Tournament Sort, Strand Sort, Spreadsort, Postman Sort, Pancake Sort, Bogo Sort, Sleep Sort, Smoothsort, Flashsort, and Introsort are all distinct algorithms with their own unique characteristics and methods."
   ]
  },
  {
   "cell_type": "code",
   "execution_count": 11,
   "id": "d83ca6d5",
   "metadata": {},
   "outputs": [],
   "source": [
    "#selectionSort\n",
    "#mergeSort\n",
    "#heapSort\n",
    "#quickSort\n",
    "#countingSort\n",
    "#radixSort\n",
    "#bucketSort\n",
    "#combSort\n",
    "#shellSort\n",
    "#pigeonholeSort"
   ]
  }
 ],
 "metadata": {
  "kernelspec": {
   "display_name": "Python 3 (ipykernel)",
   "language": "python",
   "name": "python3"
  },
  "language_info": {
   "codemirror_mode": {
    "name": "ipython",
    "version": 3
   },
   "file_extension": ".py",
   "mimetype": "text/x-python",
   "name": "python",
   "nbconvert_exporter": "python",
   "pygments_lexer": "ipython3",
   "version": "3.11.3"
  }
 },
 "nbformat": 4,
 "nbformat_minor": 5
}
