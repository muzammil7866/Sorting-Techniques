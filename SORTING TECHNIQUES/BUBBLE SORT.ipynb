{
 "cells": [
  {
   "cell_type": "code",
   "execution_count": 3,
   "id": "0e858adb-6e3d-4956-9abe-330a63a0c1db",
   "metadata": {},
   "outputs": [
    {
     "name": "stdout",
     "output_type": "stream",
     "text": [
      "[1, 2, 5, 7]\n"
     ]
    }
   ],
   "source": [
    "#bubbleSort\n",
    "def bubbleSort(list1):\n",
    "    for i in range(0,len(l1)): #iterate from the first element till the second last element to sort \n",
    "        for j in range(i+1, len(l1)): #iterate from the next elememnt to compare and swap until the end of list\n",
    "            if(l1[i] > l1[j]): #if first is larger then second then swap which means it is an ascending sort\n",
    "                temp = l1[i]\n",
    "                l1[i] = l1[j]\n",
    "                l1[j] = temp #swap\n",
    "    return l1   \n",
    "\n",
    "\n",
    "l1 = [5,7,2,1] # original list\n",
    "print(bubbleSort(l1)) #list is now sorted!\n",
    "\n"
   ]
  }
 ],
 "metadata": {
  "kernelspec": {
   "display_name": "py38",
   "language": "python",
   "name": "py38"
  },
  "language_info": {
   "codemirror_mode": {
    "name": "ipython",
    "version": 3
   },
   "file_extension": ".py",
   "mimetype": "text/x-python",
   "name": "python",
   "nbconvert_exporter": "python",
   "pygments_lexer": "ipython3",
   "version": "3.8.19"
  }
 },
 "nbformat": 4,
 "nbformat_minor": 5
}
